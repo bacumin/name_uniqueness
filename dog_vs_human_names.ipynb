{
 "cells": [
  {
   "cell_type": "markdown",
   "metadata": {},
   "source": [
    "# Names!\n",
    "I found a dataset on the evolution of human names since the 1900s. I also found some data on dog names in NYC since last year. I had two questions: \n",
    "1. Are we naming our kids in more unique ways today, vs 20 years ago? \n",
    "2. What are the past trends in the most popular dog names? Are they popular human names?"
   ]
  },
  {
   "cell_type": "code",
   "execution_count": 1,
   "metadata": {
    "collapsed": true
   },
   "outputs": [],
   "source": [
    "import pandas as pd, numpy as np"
   ]
  },
  {
   "cell_type": "code",
   "execution_count": 2,
   "metadata": {
    "collapsed": true
   },
   "outputs": [],
   "source": [
    "df_dogs = pd.read_csv('./dogNames2.csv')"
   ]
  },
  {
   "cell_type": "code",
   "execution_count": 3,
   "metadata": {
    "collapsed": true
   },
   "outputs": [],
   "source": [
    "df_humans = pd.read_csv('./NationalNames.csv')"
   ]
  },
  {
   "cell_type": "code",
   "execution_count": 6,
   "metadata": {
    "collapsed": false
   },
   "outputs": [
    {
     "data": {
      "text/html": [
       "<div>\n",
       "<table border=\"1\" class=\"dataframe\">\n",
       "  <thead>\n",
       "    <tr style=\"text-align: right;\">\n",
       "      <th></th>\n",
       "      <th>Id</th>\n",
       "      <th>Name</th>\n",
       "      <th>Year</th>\n",
       "      <th>Gender</th>\n",
       "      <th>Count</th>\n",
       "    </tr>\n",
       "  </thead>\n",
       "  <tbody>\n",
       "    <tr>\n",
       "      <th>1825428</th>\n",
       "      <td>1825429</td>\n",
       "      <td>Zykeem</td>\n",
       "      <td>2014</td>\n",
       "      <td>M</td>\n",
       "      <td>5</td>\n",
       "    </tr>\n",
       "    <tr>\n",
       "      <th>1825429</th>\n",
       "      <td>1825430</td>\n",
       "      <td>Zymeer</td>\n",
       "      <td>2014</td>\n",
       "      <td>M</td>\n",
       "      <td>5</td>\n",
       "    </tr>\n",
       "    <tr>\n",
       "      <th>1825430</th>\n",
       "      <td>1825431</td>\n",
       "      <td>Zymiere</td>\n",
       "      <td>2014</td>\n",
       "      <td>M</td>\n",
       "      <td>5</td>\n",
       "    </tr>\n",
       "    <tr>\n",
       "      <th>1825431</th>\n",
       "      <td>1825432</td>\n",
       "      <td>Zyran</td>\n",
       "      <td>2014</td>\n",
       "      <td>M</td>\n",
       "      <td>5</td>\n",
       "    </tr>\n",
       "    <tr>\n",
       "      <th>1825432</th>\n",
       "      <td>1825433</td>\n",
       "      <td>Zyrin</td>\n",
       "      <td>2014</td>\n",
       "      <td>M</td>\n",
       "      <td>5</td>\n",
       "    </tr>\n",
       "  </tbody>\n",
       "</table>\n",
       "</div>"
      ],
      "text/plain": [
       "              Id     Name  Year Gender  Count\n",
       "1825428  1825429   Zykeem  2014      M      5\n",
       "1825429  1825430   Zymeer  2014      M      5\n",
       "1825430  1825431  Zymiere  2014      M      5\n",
       "1825431  1825432    Zyran  2014      M      5\n",
       "1825432  1825433    Zyrin  2014      M      5"
      ]
     },
     "execution_count": 6,
     "metadata": {},
     "output_type": "execute_result"
    }
   ],
   "source": [
    "df_humans.tail(5)"
   ]
  },
  {
   "cell_type": "code",
   "execution_count": 8,
   "metadata": {
    "collapsed": false
   },
   "outputs": [
    {
     "data": {
      "text/html": [
       "<div>\n",
       "<table border=\"1\" class=\"dataframe\">\n",
       "  <thead>\n",
       "    <tr style=\"text-align: right;\">\n",
       "      <th></th>\n",
       "      <th>Row_Labels</th>\n",
       "      <th>Count_AnimalName</th>\n",
       "    </tr>\n",
       "  </thead>\n",
       "  <tbody>\n",
       "    <tr>\n",
       "      <th>16215</th>\n",
       "      <td>37916</td>\n",
       "      <td>1</td>\n",
       "    </tr>\n",
       "    <tr>\n",
       "      <th>16216</th>\n",
       "      <td>38282</td>\n",
       "      <td>1</td>\n",
       "    </tr>\n",
       "    <tr>\n",
       "      <th>16217</th>\n",
       "      <td>38583</td>\n",
       "      <td>1</td>\n",
       "    </tr>\n",
       "    <tr>\n",
       "      <th>16218</th>\n",
       "      <td>38948</td>\n",
       "      <td>1</td>\n",
       "    </tr>\n",
       "    <tr>\n",
       "      <th>16219</th>\n",
       "      <td>39743</td>\n",
       "      <td>1</td>\n",
       "    </tr>\n",
       "  </tbody>\n",
       "</table>\n",
       "</div>"
      ],
      "text/plain": [
       "      Row_Labels  Count_AnimalName\n",
       "16215      37916                 1\n",
       "16216      38282                 1\n",
       "16217      38583                 1\n",
       "16218      38948                 1\n",
       "16219      39743                 1"
      ]
     },
     "execution_count": 8,
     "metadata": {},
     "output_type": "execute_result"
    }
   ],
   "source": [
    "df_dogs.tail(5)"
   ]
  },
  {
   "cell_type": "markdown",
   "metadata": {},
   "source": [
    "I'm trying to predict relative, not absolute, frequencies of names. I'll have to divide out the total number of names per year."
   ]
  },
  {
   "cell_type": "code",
   "execution_count": 38,
   "metadata": {
    "collapsed": true
   },
   "outputs": [],
   "source": [
    "kids_per_year = pd.DataFrame(df_humans[['Year', 'Count']].groupby('Year').sum()).reset_index()"
   ]
  },
  {
   "cell_type": "code",
   "execution_count": 26,
   "metadata": {
    "collapsed": false,
    "scrolled": true
   },
   "outputs": [],
   "source": [
    "df_humans_npy = pd.merge(kids_per_year, df_humans, on='Year', how='right')"
   ]
  },
  {
   "cell_type": "code",
   "execution_count": 30,
   "metadata": {
    "collapsed": false
   },
   "outputs": [],
   "source": [
    "df_humans_npy['Count_pct'] = 100*df_humans_npy['Count_y']/df_humans_npy['Count_x']"
   ]
  },
  {
   "cell_type": "code",
   "execution_count": 31,
   "metadata": {
    "collapsed": false
   },
   "outputs": [
    {
     "data": {
      "text/html": [
       "<div>\n",
       "<table border=\"1\" class=\"dataframe\">\n",
       "  <thead>\n",
       "    <tr style=\"text-align: right;\">\n",
       "      <th></th>\n",
       "      <th>Year</th>\n",
       "      <th>Count_x</th>\n",
       "      <th>Id</th>\n",
       "      <th>Name</th>\n",
       "      <th>Gender</th>\n",
       "      <th>Count_y</th>\n",
       "      <th>Count_pct</th>\n",
       "    </tr>\n",
       "  </thead>\n",
       "  <tbody>\n",
       "    <tr>\n",
       "      <th>0</th>\n",
       "      <td>1880</td>\n",
       "      <td>201484</td>\n",
       "      <td>1</td>\n",
       "      <td>Mary</td>\n",
       "      <td>F</td>\n",
       "      <td>7065</td>\n",
       "      <td>3.506482</td>\n",
       "    </tr>\n",
       "    <tr>\n",
       "      <th>1</th>\n",
       "      <td>1880</td>\n",
       "      <td>201484</td>\n",
       "      <td>2</td>\n",
       "      <td>Anna</td>\n",
       "      <td>F</td>\n",
       "      <td>2604</td>\n",
       "      <td>1.292410</td>\n",
       "    </tr>\n",
       "    <tr>\n",
       "      <th>2</th>\n",
       "      <td>1880</td>\n",
       "      <td>201484</td>\n",
       "      <td>3</td>\n",
       "      <td>Emma</td>\n",
       "      <td>F</td>\n",
       "      <td>2003</td>\n",
       "      <td>0.994124</td>\n",
       "    </tr>\n",
       "  </tbody>\n",
       "</table>\n",
       "</div>"
      ],
      "text/plain": [
       "   Year  Count_x  Id  Name Gender  Count_y  Count_pct\n",
       "0  1880   201484   1  Mary      F     7065   3.506482\n",
       "1  1880   201484   2  Anna      F     2604   1.292410\n",
       "2  1880   201484   3  Emma      F     2003   0.994124"
      ]
     },
     "execution_count": 31,
     "metadata": {},
     "output_type": "execute_result"
    }
   ],
   "source": [
    "df_humans_npy.head(3)"
   ]
  },
  {
   "cell_type": "markdown",
   "metadata": {},
   "source": [
    "Have we gotten more creative with names?"
   ]
  },
  {
   "cell_type": "code",
   "execution_count": 34,
   "metadata": {
    "collapsed": true
   },
   "outputs": [],
   "source": [
    "#get number of names per person per year.\n",
    "names_per_year = pd.DataFrame(df_humans[['Year', 'Id']].groupby('Year').count()).reset_index()"
   ]
  },
  {
   "cell_type": "code",
   "execution_count": 37,
   "metadata": {
    "collapsed": false
   },
   "outputs": [],
   "source": [
    "names_per_year.columns=[['Year', 'Names']]"
   ]
  },
  {
   "cell_type": "code",
   "execution_count": 39,
   "metadata": {
    "collapsed": false
   },
   "outputs": [
    {
     "data": {
      "text/html": [
       "<div>\n",
       "<table border=\"1\" class=\"dataframe\">\n",
       "  <thead>\n",
       "    <tr style=\"text-align: right;\">\n",
       "      <th></th>\n",
       "      <th>Year</th>\n",
       "      <th>Names</th>\n",
       "      <th>Count</th>\n",
       "    </tr>\n",
       "  </thead>\n",
       "  <tbody>\n",
       "    <tr>\n",
       "      <th>0</th>\n",
       "      <td>1880</td>\n",
       "      <td>2000</td>\n",
       "      <td>201484</td>\n",
       "    </tr>\n",
       "    <tr>\n",
       "      <th>1</th>\n",
       "      <td>1881</td>\n",
       "      <td>1935</td>\n",
       "      <td>192699</td>\n",
       "    </tr>\n",
       "    <tr>\n",
       "      <th>2</th>\n",
       "      <td>1882</td>\n",
       "      <td>2127</td>\n",
       "      <td>221538</td>\n",
       "    </tr>\n",
       "    <tr>\n",
       "      <th>3</th>\n",
       "      <td>1883</td>\n",
       "      <td>2084</td>\n",
       "      <td>216950</td>\n",
       "    </tr>\n",
       "    <tr>\n",
       "      <th>4</th>\n",
       "      <td>1884</td>\n",
       "      <td>2297</td>\n",
       "      <td>243467</td>\n",
       "    </tr>\n",
       "  </tbody>\n",
       "</table>\n",
       "</div>"
      ],
      "text/plain": [
       "   Year  Names   Count\n",
       "0  1880   2000  201484\n",
       "1  1881   1935  192699\n",
       "2  1882   2127  221538\n",
       "3  1883   2084  216950\n",
       "4  1884   2297  243467"
      ]
     },
     "execution_count": 39,
     "metadata": {},
     "output_type": "execute_result"
    }
   ],
   "source": [
    "kids_names_py = pd.merge(names_per_year, kids_per_year, on='Year')\n",
    "kids_names_py.head(5)"
   ]
  },
  {
   "cell_type": "code",
   "execution_count": 40,
   "metadata": {
    "collapsed": true
   },
   "outputs": [],
   "source": [
    "kids_names_py['Names_per_1000_kids']=1000*kids_names_py.Names/kids_names_py.Count"
   ]
  },
  {
   "cell_type": "code",
   "execution_count": 42,
   "metadata": {
    "collapsed": false,
    "scrolled": true
   },
   "outputs": [
    {
     "data": {
      "text/html": [
       "<div>\n",
       "<table border=\"1\" class=\"dataframe\">\n",
       "  <thead>\n",
       "    <tr style=\"text-align: right;\">\n",
       "      <th></th>\n",
       "      <th>Year</th>\n",
       "      <th>Names</th>\n",
       "      <th>Count</th>\n",
       "      <th>Names_per_1000_kids</th>\n",
       "    </tr>\n",
       "  </thead>\n",
       "  <tbody>\n",
       "    <tr>\n",
       "      <th>0</th>\n",
       "      <td>1880</td>\n",
       "      <td>2000</td>\n",
       "      <td>201484</td>\n",
       "      <td>9.926347</td>\n",
       "    </tr>\n",
       "    <tr>\n",
       "      <th>1</th>\n",
       "      <td>1881</td>\n",
       "      <td>1935</td>\n",
       "      <td>192699</td>\n",
       "      <td>10.041567</td>\n",
       "    </tr>\n",
       "    <tr>\n",
       "      <th>2</th>\n",
       "      <td>1882</td>\n",
       "      <td>2127</td>\n",
       "      <td>221538</td>\n",
       "      <td>9.601062</td>\n",
       "    </tr>\n",
       "  </tbody>\n",
       "</table>\n",
       "</div>"
      ],
      "text/plain": [
       "   Year  Names   Count  Names_per_1000_kids\n",
       "0  1880   2000  201484             9.926347\n",
       "1  1881   1935  192699            10.041567\n",
       "2  1882   2127  221538             9.601062"
      ]
     },
     "execution_count": 42,
     "metadata": {},
     "output_type": "execute_result"
    }
   ],
   "source": [
    "kids_names_py.head(3)"
   ]
  },
  {
   "cell_type": "code",
   "execution_count": 43,
   "metadata": {
    "collapsed": true
   },
   "outputs": [],
   "source": [
    "import matplotlib.pyplot as plt\n",
    "%matplotlib inline"
   ]
  },
  {
   "cell_type": "code",
   "execution_count": 48,
   "metadata": {
    "collapsed": false
   },
   "outputs": [
    {
     "data": {
      "text/plain": [
       "<matplotlib.text.Text at 0x16e0365e780>"
      ]
     },
     "execution_count": 48,
     "metadata": {},
     "output_type": "execute_result"
    },
    {
     "data": {
      "image/png": "[encoded data removed]",
      "text/plain": [
       "<matplotlib.figure.Figure at 0x16e034f2a20>"
      ]
     },
     "metadata": {},
     "output_type": "display_data"
    }
   ],
   "source": [
    "x=kids_names_py.Year\n",
    "y=kids_names_py.Names_per_1000_kids\n",
    "plt.plot(x,y)\n",
    "plt.title('Unique names per 1000 kids - Naive')"
   ]
  },
  {
   "cell_type": "code",
   "execution_count": 46,
   "metadata": {
    "collapsed": false
   },
   "outputs": [
    {
     "data": {
      "text/plain": [
       "<matplotlib.text.Text at 0x16e0352dda0>"
      ]
     },
     "execution_count": 46,
     "metadata": {},
     "output_type": "execute_result"
    },
    {
     "data": {
      "image/png": "[encoded data removed]",
      "text/plain": [
       "<matplotlib.figure.Figure at 0x16e0340d0f0>"
      ]
     },
     "metadata": {},
     "output_type": "display_data"
    }
   ],
   "source": [
    "x=kids_names_py.Year\n",
    "y=kids_names_py.Count\n",
    "plt.plot(x,y)\n",
    "plt.title('Recorded names per year')"
   ]
  },
  {
   "cell_type": "markdown",
   "metadata": {},
   "source": [
    "Unfortunately, this isn't very informative since it seems to be mostly picking up how many people there are. It's easier to have a bunch of unique names when noone's come up with any names yet. You would expect to have more unique names per person in a population of 10 vs one of 100, for example, even if both populations are equally hipster. The real question I want to answer is: if we take 100 people at random today vs 100 years ago, how many different names will they have? Let's try entropy (a measure of disorder)"
   ]
  },
  {
   "cell_type": "code",
   "execution_count": 53,
   "metadata": {
    "collapsed": true
   },
   "outputs": [],
   "source": [
    "import scipy.stats"
   ]
  },
  {
   "cell_type": "code",
   "execution_count": 68,
   "metadata": {
    "collapsed": false
   },
   "outputs": [],
   "source": [
    "#entropy = sum of prob(x)*log2(prob(X)). \n",
    "df_humans_npy['Count_pct_d']=df_humans_npy.Count_pct/100\n",
    "entropy=df_humans_npy[['Year','Count_pct_d']].groupby('Year').apply(scipy.stats.entropy)"
   ]
  },
  {
   "cell_type": "code",
   "execution_count": 78,
   "metadata": {
    "collapsed": false
   },
   "outputs": [],
   "source": [
    "entropy_dict={a:b[1] for a,b in zip(entropy.index, entropy.values)}\n",
    "entropy_years=[a for a in entropy_dict.keys()]\n",
    "entropy_vals=[b for b in entropy_dict.values()]"
   ]
  },
  {
   "cell_type": "code",
   "execution_count": 80,
   "metadata": {
    "collapsed": false
   },
   "outputs": [
    {
     "data": {
      "text/plain": [
       "<matplotlib.text.Text at 0x16e01de1208>"
      ]
     },
     "execution_count": 80,
     "metadata": {},
     "output_type": "execute_result"
    },
    {
     "data": {
      "image/png": "[encoded data removed]",
      "text/plain": [
       "<matplotlib.figure.Figure at 0x16e01d904a8>"
      ]
     },
     "metadata": {},
     "output_type": "display_data"
    }
   ],
   "source": [
    "plt.plot(entropy_years, entropy_vals)\n",
    "plt.title('Entropy of US Names per Year')"
   ]
  },
  {
   "cell_type": "markdown",
   "metadata": {},
   "source": [
    "<h2> Dogs!"
   ]
  },
  {
   "cell_type": "markdown",
   "metadata": {},
   "source": [
    "Get top 5 dog names to investigate"
   ]
  },
  {
   "cell_type": "code",
   "execution_count": 11,
   "metadata": {
    "collapsed": false
   },
   "outputs": [
    {
     "data": {
      "text/html": [
       "<div>\n",
       "<table border=\"1\" class=\"dataframe\">\n",
       "  <thead>\n",
       "    <tr style=\"text-align: right;\">\n",
       "      <th></th>\n",
       "      <th>Row_Labels</th>\n",
       "      <th>Count_AnimalName</th>\n",
       "    </tr>\n",
       "  </thead>\n",
       "  <tbody>\n",
       "    <tr>\n",
       "      <th>1156</th>\n",
       "      <td>BELLA</td>\n",
       "      <td>1195</td>\n",
       "    </tr>\n",
       "    <tr>\n",
       "      <th>9140</th>\n",
       "      <td>MAX</td>\n",
       "      <td>1153</td>\n",
       "    </tr>\n",
       "    <tr>\n",
       "      <th>2660</th>\n",
       "      <td>CHARLIE</td>\n",
       "      <td>856</td>\n",
       "    </tr>\n",
       "    <tr>\n",
       "      <th>3251</th>\n",
       "      <td>COCO</td>\n",
       "      <td>852</td>\n",
       "    </tr>\n",
       "    <tr>\n",
       "      <th>12368</th>\n",
       "      <td>ROCKY</td>\n",
       "      <td>823</td>\n",
       "    </tr>\n",
       "  </tbody>\n",
       "</table>\n",
       "</div>"
      ],
      "text/plain": [
       "      Row_Labels  Count_AnimalName\n",
       "1156       BELLA              1195\n",
       "9140         MAX              1153\n",
       "2660     CHARLIE               856\n",
       "3251        COCO               852\n",
       "12368      ROCKY               823"
      ]
     },
     "execution_count": 11,
     "metadata": {},
     "output_type": "execute_result"
    }
   ],
   "source": [
    "df_dogs.sort_values(by='Count_AnimalName', ascending=False, inplace=True)\n",
    "df_dogs.head(5)"
   ]
  },
  {
   "cell_type": "markdown",
   "metadata": {},
   "source": [
    "Bella"
   ]
  },
  {
   "cell_type": "code",
   "execution_count": 12,
   "metadata": {
    "collapsed": false
   },
   "outputs": [
    {
     "data": {
      "text/html": [
       "<div>\n",
       "<table border=\"1\" class=\"dataframe\">\n",
       "  <thead>\n",
       "    <tr style=\"text-align: right;\">\n",
       "      <th></th>\n",
       "      <th>Id</th>\n",
       "      <th>Name</th>\n",
       "      <th>Year</th>\n",
       "      <th>Gender</th>\n",
       "      <th>Count</th>\n",
       "    </tr>\n",
       "  </thead>\n",
       "  <tbody>\n",
       "    <tr>\n",
       "      <th>468</th>\n",
       "      <td>469</td>\n",
       "      <td>Bella</td>\n",
       "      <td>1880</td>\n",
       "      <td>F</td>\n",
       "      <td>13</td>\n",
       "    </tr>\n",
       "    <tr>\n",
       "      <th>2324</th>\n",
       "      <td>2325</td>\n",
       "      <td>Bella</td>\n",
       "      <td>1881</td>\n",
       "      <td>F</td>\n",
       "      <td>24</td>\n",
       "    </tr>\n",
       "    <tr>\n",
       "      <th>4393</th>\n",
       "      <td>4394</td>\n",
       "      <td>Bella</td>\n",
       "      <td>1882</td>\n",
       "      <td>F</td>\n",
       "      <td>16</td>\n",
       "    </tr>\n",
       "    <tr>\n",
       "      <th>6526</th>\n",
       "      <td>6527</td>\n",
       "      <td>Bella</td>\n",
       "      <td>1883</td>\n",
       "      <td>F</td>\n",
       "      <td>17</td>\n",
       "    </tr>\n",
       "    <tr>\n",
       "      <th>8503</th>\n",
       "      <td>8504</td>\n",
       "      <td>Bella</td>\n",
       "      <td>1884</td>\n",
       "      <td>F</td>\n",
       "      <td>31</td>\n",
       "    </tr>\n",
       "    <tr>\n",
       "      <th>10856</th>\n",
       "      <td>10857</td>\n",
       "      <td>Bella</td>\n",
       "      <td>1885</td>\n",
       "      <td>F</td>\n",
       "      <td>25</td>\n",
       "    </tr>\n",
       "    <tr>\n",
       "      <th>13196</th>\n",
       "      <td>13197</td>\n",
       "      <td>Bella</td>\n",
       "      <td>1886</td>\n",
       "      <td>F</td>\n",
       "      <td>22</td>\n",
       "    </tr>\n",
       "    <tr>\n",
       "      <th>15564</th>\n",
       "      <td>15565</td>\n",
       "      <td>Bella</td>\n",
       "      <td>1887</td>\n",
       "      <td>F</td>\n",
       "      <td>26</td>\n",
       "    </tr>\n",
       "    <tr>\n",
       "      <th>17944</th>\n",
       "      <td>17945</td>\n",
       "      <td>Bella</td>\n",
       "      <td>1888</td>\n",
       "      <td>F</td>\n",
       "      <td>31</td>\n",
       "    </tr>\n",
       "    <tr>\n",
       "      <th>20550</th>\n",
       "      <td>20551</td>\n",
       "      <td>Bella</td>\n",
       "      <td>1889</td>\n",
       "      <td>F</td>\n",
       "      <td>37</td>\n",
       "    </tr>\n",
       "    <tr>\n",
       "      <th>23127</th>\n",
       "      <td>23128</td>\n",
       "      <td>Bella</td>\n",
       "      <td>1890</td>\n",
       "      <td>F</td>\n",
       "      <td>42</td>\n",
       "    </tr>\n",
       "    <tr>\n",
       "      <th>25842</th>\n",
       "      <td>25843</td>\n",
       "      <td>Bella</td>\n",
       "      <td>1891</td>\n",
       "      <td>F</td>\n",
       "      <td>37</td>\n",
       "    </tr>\n",
       "    <tr>\n",
       "      <th>28462</th>\n",
       "      <td>28463</td>\n",
       "      <td>Bella</td>\n",
       "      <td>1892</td>\n",
       "      <td>F</td>\n",
       "      <td>53</td>\n",
       "    </tr>\n",
       "    <tr>\n",
       "      <th>31413</th>\n",
       "      <td>31414</td>\n",
       "      <td>Bella</td>\n",
       "      <td>1893</td>\n",
       "      <td>F</td>\n",
       "      <td>46</td>\n",
       "    </tr>\n",
       "    <tr>\n",
       "      <th>34325</th>\n",
       "      <td>34326</td>\n",
       "      <td>Bella</td>\n",
       "      <td>1894</td>\n",
       "      <td>F</td>\n",
       "      <td>35</td>\n",
       "    </tr>\n",
       "    <tr>\n",
       "      <th>37255</th>\n",
       "      <td>37256</td>\n",
       "      <td>Bella</td>\n",
       "      <td>1895</td>\n",
       "      <td>F</td>\n",
       "      <td>39</td>\n",
       "    </tr>\n",
       "    <tr>\n",
       "      <th>40280</th>\n",
       "      <td>40281</td>\n",
       "      <td>Bella</td>\n",
       "      <td>1896</td>\n",
       "      <td>F</td>\n",
       "      <td>43</td>\n",
       "    </tr>\n",
       "    <tr>\n",
       "      <th>43373</th>\n",
       "      <td>43374</td>\n",
       "      <td>Bella</td>\n",
       "      <td>1897</td>\n",
       "      <td>F</td>\n",
       "      <td>44</td>\n",
       "    </tr>\n",
       "    <tr>\n",
       "      <th>46451</th>\n",
       "      <td>46452</td>\n",
       "      <td>Bella</td>\n",
       "      <td>1898</td>\n",
       "      <td>F</td>\n",
       "      <td>39</td>\n",
       "    </tr>\n",
       "    <tr>\n",
       "      <th>49620</th>\n",
       "      <td>49621</td>\n",
       "      <td>Bella</td>\n",
       "      <td>1899</td>\n",
       "      <td>F</td>\n",
       "      <td>53</td>\n",
       "    </tr>\n",
       "    <tr>\n",
       "      <th>52653</th>\n",
       "      <td>52654</td>\n",
       "      <td>Bella</td>\n",
       "      <td>1900</td>\n",
       "      <td>F</td>\n",
       "      <td>73</td>\n",
       "    </tr>\n",
       "    <tr>\n",
       "      <th>56504</th>\n",
       "      <td>56505</td>\n",
       "      <td>Bella</td>\n",
       "      <td>1901</td>\n",
       "      <td>F</td>\n",
       "      <td>36</td>\n",
       "    </tr>\n",
       "    <tr>\n",
       "      <th>59574</th>\n",
       "      <td>59575</td>\n",
       "      <td>Bella</td>\n",
       "      <td>1902</td>\n",
       "      <td>F</td>\n",
       "      <td>53</td>\n",
       "    </tr>\n",
       "    <tr>\n",
       "      <th>62992</th>\n",
       "      <td>62993</td>\n",
       "      <td>Bella</td>\n",
       "      <td>1903</td>\n",
       "      <td>F</td>\n",
       "      <td>44</td>\n",
       "    </tr>\n",
       "    <tr>\n",
       "      <th>66399</th>\n",
       "      <td>66400</td>\n",
       "      <td>Bella</td>\n",
       "      <td>1904</td>\n",
       "      <td>F</td>\n",
       "      <td>43</td>\n",
       "    </tr>\n",
       "    <tr>\n",
       "      <th>69933</th>\n",
       "      <td>69934</td>\n",
       "      <td>Bella</td>\n",
       "      <td>1905</td>\n",
       "      <td>F</td>\n",
       "      <td>52</td>\n",
       "    </tr>\n",
       "    <tr>\n",
       "      <th>73579</th>\n",
       "      <td>73580</td>\n",
       "      <td>Bella</td>\n",
       "      <td>1906</td>\n",
       "      <td>F</td>\n",
       "      <td>54</td>\n",
       "    </tr>\n",
       "    <tr>\n",
       "      <th>77212</th>\n",
       "      <td>77213</td>\n",
       "      <td>Bella</td>\n",
       "      <td>1907</td>\n",
       "      <td>F</td>\n",
       "      <td>60</td>\n",
       "    </tr>\n",
       "    <tr>\n",
       "      <th>81146</th>\n",
       "      <td>81147</td>\n",
       "      <td>Bella</td>\n",
       "      <td>1908</td>\n",
       "      <td>F</td>\n",
       "      <td>65</td>\n",
       "    </tr>\n",
       "    <tr>\n",
       "      <th>85142</th>\n",
       "      <td>85143</td>\n",
       "      <td>Bella</td>\n",
       "      <td>1909</td>\n",
       "      <td>F</td>\n",
       "      <td>75</td>\n",
       "    </tr>\n",
       "    <tr>\n",
       "      <th>...</th>\n",
       "      <td>...</td>\n",
       "      <td>...</td>\n",
       "      <td>...</td>\n",
       "      <td>...</td>\n",
       "      <td>...</td>\n",
       "    </tr>\n",
       "    <tr>\n",
       "      <th>1073169</th>\n",
       "      <td>1073170</td>\n",
       "      <td>Bella</td>\n",
       "      <td>1990</td>\n",
       "      <td>F</td>\n",
       "      <td>28</td>\n",
       "    </tr>\n",
       "    <tr>\n",
       "      <th>1096759</th>\n",
       "      <td>1096760</td>\n",
       "      <td>Bella</td>\n",
       "      <td>1991</td>\n",
       "      <td>F</td>\n",
       "      <td>47</td>\n",
       "    </tr>\n",
       "    <tr>\n",
       "      <th>1122249</th>\n",
       "      <td>1122250</td>\n",
       "      <td>Bella</td>\n",
       "      <td>1992</td>\n",
       "      <td>F</td>\n",
       "      <td>39</td>\n",
       "    </tr>\n",
       "    <tr>\n",
       "      <th>1147223</th>\n",
       "      <td>1147224</td>\n",
       "      <td>Bella</td>\n",
       "      <td>1993</td>\n",
       "      <td>F</td>\n",
       "      <td>49</td>\n",
       "    </tr>\n",
       "    <tr>\n",
       "      <th>1172505</th>\n",
       "      <td>1172506</td>\n",
       "      <td>Bella</td>\n",
       "      <td>1994</td>\n",
       "      <td>F</td>\n",
       "      <td>76</td>\n",
       "    </tr>\n",
       "    <tr>\n",
       "      <th>1198138</th>\n",
       "      <td>1198139</td>\n",
       "      <td>Bella</td>\n",
       "      <td>1995</td>\n",
       "      <td>F</td>\n",
       "      <td>105</td>\n",
       "    </tr>\n",
       "    <tr>\n",
       "      <th>1224684</th>\n",
       "      <td>1224685</td>\n",
       "      <td>Bella</td>\n",
       "      <td>1996</td>\n",
       "      <td>F</td>\n",
       "      <td>72</td>\n",
       "    </tr>\n",
       "    <tr>\n",
       "      <th>1250792</th>\n",
       "      <td>1250793</td>\n",
       "      <td>Bella</td>\n",
       "      <td>1997</td>\n",
       "      <td>F</td>\n",
       "      <td>95</td>\n",
       "    </tr>\n",
       "    <tr>\n",
       "      <th>1277293</th>\n",
       "      <td>1277294</td>\n",
       "      <td>Bella</td>\n",
       "      <td>1998</td>\n",
       "      <td>F</td>\n",
       "      <td>156</td>\n",
       "    </tr>\n",
       "    <tr>\n",
       "      <th>1305078</th>\n",
       "      <td>1305079</td>\n",
       "      <td>Bella</td>\n",
       "      <td>1999</td>\n",
       "      <td>F</td>\n",
       "      <td>183</td>\n",
       "    </tr>\n",
       "    <tr>\n",
       "      <th>1333286</th>\n",
       "      <td>1333287</td>\n",
       "      <td>Bella</td>\n",
       "      <td>2000</td>\n",
       "      <td>F</td>\n",
       "      <td>307</td>\n",
       "    </tr>\n",
       "    <tr>\n",
       "      <th>1362910</th>\n",
       "      <td>1362911</td>\n",
       "      <td>Bella</td>\n",
       "      <td>2001</td>\n",
       "      <td>F</td>\n",
       "      <td>412</td>\n",
       "    </tr>\n",
       "    <tr>\n",
       "      <th>1392988</th>\n",
       "      <td>1392989</td>\n",
       "      <td>Bella</td>\n",
       "      <td>2002</td>\n",
       "      <td>F</td>\n",
       "      <td>682</td>\n",
       "    </tr>\n",
       "    <tr>\n",
       "      <th>1423440</th>\n",
       "      <td>1423441</td>\n",
       "      <td>Bella</td>\n",
       "      <td>2003</td>\n",
       "      <td>F</td>\n",
       "      <td>971</td>\n",
       "    </tr>\n",
       "    <tr>\n",
       "      <th>1454554</th>\n",
       "      <td>1454555</td>\n",
       "      <td>Bella</td>\n",
       "      <td>2004</td>\n",
       "      <td>F</td>\n",
       "      <td>1240</td>\n",
       "    </tr>\n",
       "    <tr>\n",
       "      <th>1486537</th>\n",
       "      <td>1486538</td>\n",
       "      <td>Bella</td>\n",
       "      <td>2005</td>\n",
       "      <td>F</td>\n",
       "      <td>1659</td>\n",
       "    </tr>\n",
       "    <tr>\n",
       "      <th>1519043</th>\n",
       "      <td>1519044</td>\n",
       "      <td>Bella</td>\n",
       "      <td>2006</td>\n",
       "      <td>F</td>\n",
       "      <td>1953</td>\n",
       "    </tr>\n",
       "    <tr>\n",
       "      <th>1553089</th>\n",
       "      <td>1553090</td>\n",
       "      <td>Bella</td>\n",
       "      <td>2007</td>\n",
       "      <td>F</td>\n",
       "      <td>2249</td>\n",
       "    </tr>\n",
       "    <tr>\n",
       "      <th>1587984</th>\n",
       "      <td>1587985</td>\n",
       "      <td>Bella</td>\n",
       "      <td>2008</td>\n",
       "      <td>F</td>\n",
       "      <td>2782</td>\n",
       "    </tr>\n",
       "    <tr>\n",
       "      <th>1621044</th>\n",
       "      <td>1621045</td>\n",
       "      <td>Bella</td>\n",
       "      <td>2008</td>\n",
       "      <td>M</td>\n",
       "      <td>5</td>\n",
       "    </tr>\n",
       "    <tr>\n",
       "      <th>1622965</th>\n",
       "      <td>1622966</td>\n",
       "      <td>Bella</td>\n",
       "      <td>2009</td>\n",
       "      <td>F</td>\n",
       "      <td>4530</td>\n",
       "    </tr>\n",
       "    <tr>\n",
       "      <th>1655758</th>\n",
       "      <td>1655759</td>\n",
       "      <td>Bella</td>\n",
       "      <td>2009</td>\n",
       "      <td>M</td>\n",
       "      <td>5</td>\n",
       "    </tr>\n",
       "    <tr>\n",
       "      <th>1657639</th>\n",
       "      <td>1657640</td>\n",
       "      <td>Bella</td>\n",
       "      <td>2010</td>\n",
       "      <td>F</td>\n",
       "      <td>5109</td>\n",
       "    </tr>\n",
       "    <tr>\n",
       "      <th>1686271</th>\n",
       "      <td>1686272</td>\n",
       "      <td>Bella</td>\n",
       "      <td>2010</td>\n",
       "      <td>M</td>\n",
       "      <td>8</td>\n",
       "    </tr>\n",
       "    <tr>\n",
       "      <th>1691692</th>\n",
       "      <td>1691693</td>\n",
       "      <td>Bella</td>\n",
       "      <td>2011</td>\n",
       "      <td>F</td>\n",
       "      <td>4256</td>\n",
       "    </tr>\n",
       "    <tr>\n",
       "      <th>1719304</th>\n",
       "      <td>1719305</td>\n",
       "      <td>Bella</td>\n",
       "      <td>2011</td>\n",
       "      <td>M</td>\n",
       "      <td>9</td>\n",
       "    </tr>\n",
       "    <tr>\n",
       "      <th>1725555</th>\n",
       "      <td>1725556</td>\n",
       "      <td>Bella</td>\n",
       "      <td>2012</td>\n",
       "      <td>F</td>\n",
       "      <td>4332</td>\n",
       "    </tr>\n",
       "    <tr>\n",
       "      <th>1759243</th>\n",
       "      <td>1759244</td>\n",
       "      <td>Bella</td>\n",
       "      <td>2013</td>\n",
       "      <td>F</td>\n",
       "      <td>4154</td>\n",
       "    </tr>\n",
       "    <tr>\n",
       "      <th>1792458</th>\n",
       "      <td>1792459</td>\n",
       "      <td>Bella</td>\n",
       "      <td>2014</td>\n",
       "      <td>F</td>\n",
       "      <td>4050</td>\n",
       "    </tr>\n",
       "    <tr>\n",
       "      <th>1821143</th>\n",
       "      <td>1821144</td>\n",
       "      <td>Bella</td>\n",
       "      <td>2014</td>\n",
       "      <td>M</td>\n",
       "      <td>7</td>\n",
       "    </tr>\n",
       "  </tbody>\n",
       "</table>\n",
       "<p>140 rows × 5 columns</p>\n",
       "</div>"
      ],
      "text/plain": [
       "              Id   Name  Year Gender  Count\n",
       "468          469  Bella  1880      F     13\n",
       "2324        2325  Bella  1881      F     24\n",
       "4393        4394  Bella  1882      F     16\n",
       "6526        6527  Bella  1883      F     17\n",
       "8503        8504  Bella  1884      F     31\n",
       "10856      10857  Bella  1885      F     25\n",
       "13196      13197  Bella  1886      F     22\n",
       "15564      15565  Bella  1887      F     26\n",
       "17944      17945  Bella  1888      F     31\n",
       "20550      20551  Bella  1889      F     37\n",
       "23127      23128  Bella  1890      F     42\n",
       "25842      25843  Bella  1891      F     37\n",
       "28462      28463  Bella  1892      F     53\n",
       "31413      31414  Bella  1893      F     46\n",
       "34325      34326  Bella  1894      F     35\n",
       "37255      37256  Bella  1895      F     39\n",
       "40280      40281  Bella  1896      F     43\n",
       "43373      43374  Bella  1897      F     44\n",
       "46451      46452  Bella  1898      F     39\n",
       "49620      49621  Bella  1899      F     53\n",
       "52653      52654  Bella  1900      F     73\n",
       "56504      56505  Bella  1901      F     36\n",
       "59574      59575  Bella  1902      F     53\n",
       "62992      62993  Bella  1903      F     44\n",
       "66399      66400  Bella  1904      F     43\n",
       "69933      69934  Bella  1905      F     52\n",
       "73579      73580  Bella  1906      F     54\n",
       "77212      77213  Bella  1907      F     60\n",
       "81146      81147  Bella  1908      F     65\n",
       "85142      85143  Bella  1909      F     75\n",
       "...          ...    ...   ...    ...    ...\n",
       "1073169  1073170  Bella  1990      F     28\n",
       "1096759  1096760  Bella  1991      F     47\n",
       "1122249  1122250  Bella  1992      F     39\n",
       "1147223  1147224  Bella  1993      F     49\n",
       "1172505  1172506  Bella  1994      F     76\n",
       "1198138  1198139  Bella  1995      F    105\n",
       "1224684  1224685  Bella  1996      F     72\n",
       "1250792  1250793  Bella  1997      F     95\n",
       "1277293  1277294  Bella  1998      F    156\n",
       "1305078  1305079  Bella  1999      F    183\n",
       "1333286  1333287  Bella  2000      F    307\n",
       "1362910  1362911  Bella  2001      F    412\n",
       "1392988  1392989  Bella  2002      F    682\n",
       "1423440  1423441  Bella  2003      F    971\n",
       "1454554  1454555  Bella  2004      F   1240\n",
       "1486537  1486538  Bella  2005      F   1659\n",
       "1519043  1519044  Bella  2006      F   1953\n",
       "1553089  1553090  Bella  2007      F   2249\n",
       "1587984  1587985  Bella  2008      F   2782\n",
       "1621044  1621045  Bella  2008      M      5\n",
       "1622965  1622966  Bella  2009      F   4530\n",
       "1655758  1655759  Bella  2009      M      5\n",
       "1657639  1657640  Bella  2010      F   5109\n",
       "1686271  1686272  Bella  2010      M      8\n",
       "1691692  1691693  Bella  2011      F   4256\n",
       "1719304  1719305  Bella  2011      M      9\n",
       "1725555  1725556  Bella  2012      F   4332\n",
       "1759243  1759244  Bella  2013      F   4154\n",
       "1792458  1792459  Bella  2014      F   4050\n",
       "1821143  1821144  Bella  2014      M      7\n",
       "\n",
       "[140 rows x 5 columns]"
      ]
     },
     "execution_count": 12,
     "metadata": {},
     "output_type": "execute_result"
    }
   ],
   "source": [
    "bella = df_humans[df_humans.Name == 'Bella']\n",
    "bella"
   ]
  },
  {
   "cell_type": "code",
   "execution_count": null,
   "metadata": {
    "collapsed": true
   },
   "outputs": [],
   "source": []
  }
 ],
 "metadata": {
  "kernelspec": {
   "display_name": "Python 3",
   "language": "python",
   "name": "python3"
  },
  "language_info": {
   "codemirror_mode": {
    "name": "ipython",
    "version": 3
   },
   "file_extension": ".py",
   "mimetype": "text/x-python",
   "name": "python",
   "nbconvert_exporter": "python",
   "pygments_lexer": "ipython3",
   "version": "3.6.0"
  }
 },
 "nbformat": 4,
 "nbformat_minor": 2
}
